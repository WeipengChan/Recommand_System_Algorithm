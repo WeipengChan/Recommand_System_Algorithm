{
 "cells": [
  {
   "cell_type": "code",
   "execution_count": 2,
   "metadata": {},
   "outputs": [
    {
     "data": {
      "text/html": [
       "<div>\n",
       "<style>\n",
       "    .dataframe thead tr:only-child th {\n",
       "        text-align: right;\n",
       "    }\n",
       "\n",
       "    .dataframe thead th {\n",
       "        text-align: left;\n",
       "    }\n",
       "\n",
       "    .dataframe tbody tr th {\n",
       "        vertical-align: top;\n",
       "    }\n",
       "</style>\n",
       "<table border=\"1\" class=\"dataframe\">\n",
       "  <thead>\n",
       "    <tr style=\"text-align: right;\">\n",
       "      <th></th>\n",
       "      <th>0</th>\n",
       "      <th>1</th>\n",
       "      <th>2</th>\n",
       "      <th>3</th>\n",
       "      <th>4</th>\n",
       "    </tr>\n",
       "  </thead>\n",
       "  <tbody>\n",
       "    <tr>\n",
       "      <th>0</th>\n",
       "      <td>A</td>\n",
       "      <td>1277</td>\n",
       "      <td>1</td>\n",
       "      <td>NetShow for PowerPoint</td>\n",
       "      <td>/stream</td>\n",
       "    </tr>\n",
       "    <tr>\n",
       "      <th>1</th>\n",
       "      <td>A</td>\n",
       "      <td>1253</td>\n",
       "      <td>1</td>\n",
       "      <td>MS Word Development</td>\n",
       "      <td>/worddev</td>\n",
       "    </tr>\n",
       "    <tr>\n",
       "      <th>2</th>\n",
       "      <td>A</td>\n",
       "      <td>1109</td>\n",
       "      <td>1</td>\n",
       "      <td>TechNet (World Wide Web Edition)</td>\n",
       "      <td>/technet</td>\n",
       "    </tr>\n",
       "    <tr>\n",
       "      <th>3</th>\n",
       "      <td>A</td>\n",
       "      <td>1038</td>\n",
       "      <td>1</td>\n",
       "      <td>SiteBuilder Network Membership</td>\n",
       "      <td>/sbnmember</td>\n",
       "    </tr>\n",
       "    <tr>\n",
       "      <th>4</th>\n",
       "      <td>A</td>\n",
       "      <td>1205</td>\n",
       "      <td>1</td>\n",
       "      <td>Hardware Supprt</td>\n",
       "      <td>/hardwaresupport</td>\n",
       "    </tr>\n",
       "  </tbody>\n",
       "</table>\n",
       "</div>"
      ],
      "text/plain": [
       "   0     1  2                                 3                 4\n",
       "0  A  1277  1            NetShow for PowerPoint           /stream\n",
       "1  A  1253  1               MS Word Development          /worddev\n",
       "2  A  1109  1  TechNet (World Wide Web Edition)          /technet\n",
       "3  A  1038  1    SiteBuilder Network Membership        /sbnmember\n",
       "4  A  1205  1                   Hardware Supprt  /hardwaresupport"
      ]
     },
     "execution_count": 2,
     "metadata": {},
     "output_type": "execute_result"
    }
   ],
   "source": [
    "import pandas as pd\n",
    "import numpy as np\n",
    "import scipy\n",
    "import sklearn\n",
    "\n",
    "path = \"./data/anonymous-msweb.test\"\n",
    "raw_data = pd.read_csv(path,header=None,skiprows=7)\n",
    "raw_data.shape\n",
    "raw_data.head()"
   ]
  },
  {
   "cell_type": "code",
   "execution_count": 3,
   "metadata": {
    "collapsed": true
   },
   "outputs": [],
   "source": [
    "#creating user profile\n",
    "user_activity = raw_data.loc[raw_data[0] != \"A\"]\n",
    "user_activity.columns = ['category','value','vote','desc','url']\n",
    "user_activity = user_activity[['category','value']]"
   ]
  },
  {
   "cell_type": "code",
   "execution_count": 4,
   "metadata": {},
   "outputs": [
    {
     "data": {
      "text/html": [
       "<div>\n",
       "<style>\n",
       "    .dataframe thead tr:only-child th {\n",
       "        text-align: right;\n",
       "    }\n",
       "\n",
       "    .dataframe thead th {\n",
       "        text-align: left;\n",
       "    }\n",
       "\n",
       "    .dataframe tbody tr th {\n",
       "        vertical-align: top;\n",
       "    }\n",
       "</style>\n",
       "<table border=\"1\" class=\"dataframe\">\n",
       "  <thead>\n",
       "    <tr style=\"text-align: right;\">\n",
       "      <th></th>\n",
       "      <th>value</th>\n",
       "    </tr>\n",
       "    <tr>\n",
       "      <th>category</th>\n",
       "      <th></th>\n",
       "    </tr>\n",
       "  </thead>\n",
       "  <tbody>\n",
       "    <tr>\n",
       "      <th>C</th>\n",
       "      <td>5000</td>\n",
       "    </tr>\n",
       "    <tr>\n",
       "      <th>V</th>\n",
       "      <td>15191</td>\n",
       "    </tr>\n",
       "  </tbody>\n",
       "</table>\n",
       "</div>"
      ],
      "text/plain": [
       "          value\n",
       "category       \n",
       "C          5000\n",
       "V         15191"
      ]
     },
     "execution_count": 4,
     "metadata": {},
     "output_type": "execute_result"
    }
   ],
   "source": [
    "user_activity.groupby('category').count()\n"
   ]
  },
  {
   "cell_type": "code",
   "execution_count": 5,
   "metadata": {},
   "outputs": [
    {
     "data": {
      "text/plain": [
       "5000"
      ]
     },
     "execution_count": 5,
     "metadata": {},
     "output_type": "execute_result"
    }
   ],
   "source": [
    "len(user_activity.loc[user_activity['category'] ==\"C\"].value.unique())"
   ]
  },
  {
   "cell_type": "code",
   "execution_count": 6,
   "metadata": {},
   "outputs": [
    {
     "data": {
      "text/plain": [
       "Int64Index([  294,   295,   296,   297,   298,   299,   300,   301,   302,\n",
       "              303,\n",
       "            ...\n",
       "            20475, 20476, 20477, 20478, 20479, 20480, 20481, 20482, 20483,\n",
       "            20484],\n",
       "           dtype='int64', length=20191)"
      ]
     },
     "execution_count": 6,
     "metadata": {},
     "output_type": "execute_result"
    }
   ],
   "source": [
    "len(user_activity.loc[user_activity['category'] ==\"V\"].value.unique())\n",
    "user_activity.index"
   ]
  },
  {
   "cell_type": "code",
   "execution_count": 7,
   "metadata": {},
   "outputs": [
    {
     "name": "stdout",
     "output_type": "stream",
     "text": [
      "Int64Index([  294,   295,   296,   297,   298,   299,   300,   301,   302,\n",
      "              303,\n",
      "            ...\n",
      "            20475, 20476, 20477, 20478, 20479, 20480, 20481, 20482, 20483,\n",
      "            20484],\n",
      "           dtype='int64', length=20191)\n"
     ]
    },
    {
     "data": {
      "text/plain": [
       "20484"
      ]
     },
     "execution_count": 7,
     "metadata": {},
     "output_type": "execute_result"
    }
   ],
   "source": [
    "tmp = 0\n",
    "nextrow = False\n",
    "print(user_activity.index)\n",
    "lastindex = user_activity.index[len(user_activity)-1]\n",
    "lastindex"
   ]
  },
  {
   "cell_type": "code",
   "execution_count": 8,
   "metadata": {
    "collapsed": true
   },
   "outputs": [],
   "source": [
    "for index,row in user_activity.iterrows():\n",
    "    if(index <= lastindex ):\n",
    "        if(user_activity.loc[index,'category'] == \"C\"):\n",
    "            tmp = 0\n",
    "            #add += 1\n",
    "            #user_activity.loc[index,'chunk'] += add\n",
    "            userid = user_activity.loc[index,'value']\n",
    "            user_activity.loc[index,'userid'] = userid\n",
    "            user_activity.loc[index,'webid'] = userid\n",
    "            tmp = userid\n",
    "            nextrow = True            \n",
    "        elif(user_activity.loc[index,'category'] != \"C\" and nextrow == True):\n",
    "                #user_activity.loc[index,'chunk'] += add\n",
    "                webid = user_activity.loc[index,'value']\n",
    "                user_activity.loc[index,'webid'] = webid\n",
    "                user_activity.loc[index,'userid'] = tmp\n",
    "                if(index != lastindex and user_activity.loc[index+1,'category'] == \"C\"):\n",
    "                    nextrow = False"
   ]
  },
  {
   "cell_type": "code",
   "execution_count": 9,
   "metadata": {},
   "outputs": [
    {
     "name": "stdout",
     "output_type": "stream",
     "text": [
      "Int64Index([  295,   296,   297,   299,   300,   301,   303,   304,   305,\n",
      "              306,\n",
      "            ...\n",
      "            20471, 20473, 20475, 20476, 20478, 20479, 20480, 20481, 20483,\n",
      "            20484],\n",
      "           dtype='int64', length=15191)\n"
     ]
    }
   ],
   "source": [
    "user_activity_v = user_activity[user_activity['category'] == \"V\" ]\n",
    "user_activity_v = user_activity_v[['userid','webid']]\n",
    "print(user_activity_v.index)\n",
    "user_activity_sort = user_activity_v.sort_values('webid', ascending=True)\n"
   ]
  },
  {
   "cell_type": "code",
   "execution_count": 10,
   "metadata": {},
   "outputs": [
    {
     "data": {
      "text/plain": [
       "5000"
      ]
     },
     "execution_count": 10,
     "metadata": {},
     "output_type": "execute_result"
    }
   ],
   "source": [
    "user_activity_sort['userid'].unique().shape[0]\n"
   ]
  },
  {
   "cell_type": "code",
   "execution_count": 11,
   "metadata": {},
   "outputs": [
    {
     "data": {
      "text/plain": [
       "236"
      ]
     },
     "execution_count": 11,
     "metadata": {},
     "output_type": "execute_result"
    }
   ],
   "source": [
    "user_activity_sort['webid'].unique().shape[0]"
   ]
  },
  {
   "cell_type": "code",
   "execution_count": 12,
   "metadata": {},
   "outputs": [
    {
     "name": "stdout",
     "output_type": "stream",
     "text": [
      "(5000, 236)\n"
     ]
    },
    {
     "data": {
      "text/plain": [
       "(15191, 3)"
      ]
     },
     "execution_count": 12,
     "metadata": {},
     "output_type": "execute_result"
    }
   ],
   "source": [
    "sLength = len(user_activity_sort['webid'])\n",
    "user_activity_sort['rating'] = pd.Series(np.ones((sLength,)), index=user_activity_v.index)\n",
    "ratmat = user_activity_sort.pivot(index='userid', columns='webid', values='rating').fillna(0)\n",
    "print(ratmat.shape)\n",
    "ratmat = ratmat.to_dense().as_matrix()\n",
    "user_activity_sort.shape"
   ]
  },
  {
   "cell_type": "code",
   "execution_count": 13,
   "metadata": {},
   "outputs": [
    {
     "data": {
      "text/plain": [
       "294"
      ]
     },
     "execution_count": 13,
     "metadata": {},
     "output_type": "execute_result"
    }
   ],
   "source": [
    "items = raw_data.loc[raw_data[0] == \"A\"]\n",
    "items.columns = ['record','webid','vote','desc','url']\n",
    "items = items[['webid','desc']]\n",
    "items2 = items[items['webid'].isin(user_activity_v['webid'].tolist())]\n",
    "items_sort = items2.sort_values('webid', ascending=True)\n",
    "items['webid'].unique().shape[0]\n"
   ]
  },
  {
   "cell_type": "code",
   "execution_count": 14,
   "metadata": {},
   "outputs": [
    {
     "name": "stdout",
     "output_type": "stream",
     "text": [
      "[[ 0.  0.  0. ...,  0.  0.  0.]\n",
      " [ 0.  0.  0. ...,  0.  0.  0.]\n",
      " [ 0.  0.  0. ...,  0.  0.  0.]\n",
      " ..., \n",
      " [ 0.  0.  0. ...,  0.  0.  0.]\n",
      " [ 0.  0.  0. ...,  0.  0.  0.]\n",
      " [ 1.  0.  0. ...,  0.  0.  0.]]\n"
     ]
    },
    {
     "data": {
      "text/plain": [
       "(236, 100)"
      ]
     },
     "execution_count": 14,
     "metadata": {},
     "output_type": "execute_result"
    }
   ],
   "source": [
    "#tfidf\n",
    "from sklearn.feature_extraction.text import TfidfVectorizer\n",
    "v = TfidfVectorizer(stop_words =\"english\",max_features = 100,ngram_range= (0,3),sublinear_tf =True)\n",
    "x = v.fit_transform(items_sort['desc'])\n",
    "itemprof = x.todense()\n",
    "print(ratmat)\n",
    "itemprof.shape"
   ]
  },
  {
   "cell_type": "code",
   "execution_count": 19,
   "metadata": {},
   "outputs": [
    {
     "data": {
      "text/plain": [
       "(5000, 100)"
      ]
     },
     "execution_count": 19,
     "metadata": {},
     "output_type": "execute_result"
    }
   ],
   "source": [
    "#dot product\n",
    "from scipy import linalg, dot\n",
    "userprof = dot(ratmat,itemprof)/linalg.norm(ratmat)/linalg.norm(itemprof)\n",
    "userprof.shape"
   ]
  },
  {
   "cell_type": "code",
   "execution_count": 16,
   "metadata": {},
   "outputs": [
    {
     "name": "stdout",
     "output_type": "stream",
     "text": [
      "(5000, 236)\n",
      "[1 0 0 1 0 1 1 0 0 0 0 0 0 0 0 0 0 0 1 0 0 1 0 1 0 0 0 0 0 0 0 0 0 1 0 0 0\n",
      " 0 0 0 0 0 1 1 0 1 0 0 0 0 0 0 1 0 0 1 0 1 1 0 1 0 0 0 0 1 0 0 0 0 1 1 1 0\n",
      " 0 0 0 0 1 1 0 0 0 1 0 1 0 0 0 0 0 1 0 1 0 0 0 1 0 0 0 1 1 1 1 1 0 0 1 1 0\n",
      " 0 1 0 0 0 0 0 1 0 1 0 1 0 0 0 0 0 0 0 0 1 0 1 0 1 1 1 0 0 1 0 0 1 0 0 0 1\n",
      " 1 0 1 0 0 0 0 0 0 0 0 1 1 0 0 0 0 1 1 0 1 0 0 0 1 1 0 1 1 0 0 0 0 1 0 1 0\n",
      " 0 1 1 0 1 0 0 1 0 1 0 1 1 0 0 0 0 0 1 1 0 0 0 0 1 0 0 1 1 0 0 0 0 0 1 1 0\n",
      " 0 0 0 1 1 0 0 0 1 0 0 0 0 0]\n",
      "(array([  0,   3,   5,   6,  18,  21,  23,  33,  42,  43,  45,  52,  55,\n",
      "        57,  58,  60,  65,  70,  71,  72,  78,  79,  83,  85,  91,  93,\n",
      "        97, 101, 102, 103, 104, 105, 108, 109, 112, 118, 120, 122, 131,\n",
      "       133, 135, 136, 137, 140, 143, 147, 148, 150, 159, 160, 165, 166,\n",
      "       168, 172, 173, 175, 176, 181, 183, 186, 187, 189, 192, 194, 196,\n",
      "       197, 203, 204, 209, 212, 213, 219, 220, 225, 226, 230]),)\n"
     ]
    }
   ],
   "source": [
    "#cosine similarity between  userprofile an item profile\n",
    "import sklearn.metrics\n",
    "similarityCalc = sklearn.metrics.pairwise.cosine_similarity(userprof, itemprof, dense_output=True)\n",
    "print(similarityCalc.shape)\n",
    "#covert the rating to binary format\n",
    "final_pred= np.where(similarityCalc>0.6, 1, 0)\n",
    "print(final_pred[943])\n",
    "indexes_of_user = np.where(final_pred[943] == 1)\n",
    "print(indexes_of_user)"
   ]
  },
  {
   "cell_type": "code",
   "execution_count": 21,
   "metadata": {},
   "outputs": [
    {
     "data": {
      "text/plain": [
       "(76, 100)"
      ]
     },
     "execution_count": 21,
     "metadata": {},
     "output_type": "execute_result"
    }
   ],
   "source": [
    "userprof[indexes_of_user].shape"
   ]
  },
  {
   "cell_type": "code",
   "execution_count": null,
   "metadata": {
    "collapsed": true
   },
   "outputs": [],
   "source": []
  },
  {
   "cell_type": "code",
   "execution_count": null,
   "metadata": {
    "collapsed": true
   },
   "outputs": [],
   "source": []
  }
 ],
 "metadata": {
  "kernelspec": {
   "display_name": "Python 3",
   "language": "python",
   "name": "python3"
  },
  "language_info": {
   "codemirror_mode": {
    "name": "ipython",
    "version": 3
   },
   "file_extension": ".py",
   "mimetype": "text/x-python",
   "name": "python",
   "nbconvert_exporter": "python",
   "pygments_lexer": "ipython3",
   "version": "3.6.3"
  }
 },
 "nbformat": 4,
 "nbformat_minor": 2
}
